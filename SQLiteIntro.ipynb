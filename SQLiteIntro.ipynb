{
 "cells": [
  {
   "cell_type": "markdown",
   "metadata": {},
   "source": [
    "# PENGENALAN SQLite 3 \n",
    "SQLite adalah library program SQL database engine yang tidak memerlukan server ataupun konfigurasi SQL server seperti permission, user name dan password, dsb. Library SQLite3 default di Python. Tidak perlu melakukan pip install untuk mendapatkan library tersebut. "
   ]
  },
  {
   "cell_type": "code",
   "execution_count": 1,
   "metadata": {},
   "outputs": [],
   "source": [
    "import sqlite3 #cukup lakukan import sqlite3 untuk mulai menggunakan library tersebut"
   ]
  },
  {
   "cell_type": "markdown",
   "metadata": {},
   "source": [
    "Pada dasarnya syntax yang dipakai pada SQLite3 sama saja dengan standard syntax yang dipakai pada SQL server lainnya. "
   ]
  },
  {
   "cell_type": "markdown",
   "metadata": {},
   "source": [
    "### CREATE / AKSES DATABASE\n",
    "Untuk mengakses database cukup lakukan sebagai berikut: "
   ]
  },
  {
   "cell_type": "code",
   "execution_count": 4,
   "metadata": {},
   "outputs": [],
   "source": [
    "koneksi = sqlite3.connect('database1.db')  #jika database tidak didapati, maka SQLite3 akan create database tsb.\n",
    "kursor = koneksi.cursor() #membentuk kursor untuk manuver / manipulasi database"
   ]
  },
  {
   "cell_type": "markdown",
   "metadata": {},
   "source": [
    "\n",
    "Dengan perintah diatas, database dan kursor terbentuk. Namun database ini belum memiliki tabel untuk mengisi kolom dan row. Perintah berikutnya adalah lakukan create table. "
   ]
  },
  {
   "cell_type": "code",
   "execution_count": 8,
   "metadata": {},
   "outputs": [],
   "source": [
    "kursor.execute(\"CREATE TABLE IF NOT EXISTS tabelLapak(nama TEXT, kota TEXT, produk TEXT, qty INT, harga REAL)\")\n",
    "koneksi.commit() #tabel terbentuk saat eksekusi perintah ini"
   ]
  },
  {
   "cell_type": "markdown",
   "metadata": {},
   "source": [
    "mari membedah kedua baris statement diatas.\n",
    "\n",
    "    1. kursor.execute() adalah perintah untuk melakukan eksekusi perintah SQL. Dalam kurung () yang mengikuti commit adalah tempat memasukkan perintah SQL\n",
    "    2. Dalam contoh diatas semua perintah SQL sengaja ditulis dalam huruf besar untuk memudahkan membedakan antara syntax SQL dengan nama variabel ataupun tabel. Namun hal ini tidak wajib karena SQL tidak membedakan huruf besar dan kecil. \n",
    "    3. tabelLapak adalah nama tabel yang di create, dengan field nama (type text), kota (type text), produk (type text), qty (type int), harga (type real)\n",
    "    4. koneksi.commit() adalah perintah untuk eksekusi perintah yang ada pada kursor.execute()\n",
    "    "
   ]
  },
  {
   "cell_type": "markdown",
   "metadata": {},
   "source": [
    "### INSERT\n",
    "Berikut adalah contoh perintah insert kedalam tabel"
   ]
  },
  {
   "cell_type": "code",
   "execution_count": 9,
   "metadata": {},
   "outputs": [],
   "source": [
    "kursor.execute(\"INSERT INTO tabelLapak VALUES ('Toko Bagus', 'Jakarta', 'Tolak Angin', 10, 2000)\")\n",
    "koneksi.commit()"
   ]
  },
  {
   "cell_type": "markdown",
   "metadata": {},
   "source": [
    "statement diatas memerintahkan insert record kedalam tabel \"tabelLapak\" dengan value yang akan disimpan kedalam tabel sesuai dengan urutan field waktu create table. "
   ]
  },
  {
   "cell_type": "markdown",
   "metadata": {},
   "source": [
    "### SELECT \n",
    "Untuk melihat data yang sudah di insert seperti diatas, kita bisa melakukan perintah select terhadap tabel diatas"
   ]
  },
  {
   "cell_type": "code",
   "execution_count": 10,
   "metadata": {},
   "outputs": [
    {
     "name": "stdout",
     "output_type": "stream",
     "text": [
      "[('Toko Bagus', 'Jakarta', 'Tolak Angin', 10, 2000.0)]\n"
     ]
    }
   ],
   "source": [
    "kursor.execute(\"SELECT * FROM tabelLapak\")\n",
    "data = kursor.fetchall()\n",
    "print(data)"
   ]
  },
  {
   "cell_type": "markdown",
   "metadata": {},
   "source": [
    "Seperti dilihat pada bagian program diatas, perintah select tidak memerlukan koneksi.commit(). Karena tidak ada manipulasi data yang dilakukan; hanya menarik data yang sudah tersimpan didalam tabel yang ada. Untuk mendapatkan data yang telah di select, gunakan method fetchall() dan data tersebut bisa disimpan kedalam variabel yang akan secara otomatis akan membentuk tuple."
   ]
  },
  {
   "cell_type": "markdown",
   "metadata": {},
   "source": [
    "### UPDATE\n",
    "Untuk sebagai contoh, mari lakukan update terhadap quantity tolak angin dari 10 menjadi 20"
   ]
  },
  {
   "cell_type": "code",
   "execution_count": 11,
   "metadata": {},
   "outputs": [],
   "source": [
    "kursor.execute(\"UPDATE tabelLapak SET qty = 20 WHERE qty = 10\")\n",
    "koneksi.commit()"
   ]
  },
  {
   "cell_type": "code",
   "execution_count": 12,
   "metadata": {},
   "outputs": [
    {
     "name": "stdout",
     "output_type": "stream",
     "text": [
      "[('Toko Bagus', 'Jakarta', 'Tolak Angin', 20, 2000.0)]\n"
     ]
    }
   ],
   "source": [
    "kursor.execute(\"SELECT * FROM tabelLapak\") #sekali lagi kira query tabelLapak untuk melihat perubahan yang terjadi\n",
    "data = kursor.fetchall()\n",
    "print(data)"
   ]
  },
  {
   "cell_type": "markdown",
   "metadata": {},
   "source": [
    "sekarang kita bisa lihat bahwa quantity sudah berubah menjadi 20 karena kita melakukan update qty = 20 untuk record yang memiliki qty = 10 "
   ]
  },
  {
   "cell_type": "markdown",
   "metadata": {},
   "source": [
    "### DELETE\n",
    "Untuk melakukan delete, caranya sebagai berikut:"
   ]
  },
  {
   "cell_type": "code",
   "execution_count": 13,
   "metadata": {},
   "outputs": [],
   "source": [
    "kursor.execute(\"DELETE FROM tabelLapak where qty = 20\")\n",
    "koneksi.commit()"
   ]
  },
  {
   "cell_type": "code",
   "execution_count": 14,
   "metadata": {},
   "outputs": [
    {
     "name": "stdout",
     "output_type": "stream",
     "text": [
      "[]\n"
     ]
    }
   ],
   "source": [
    "kursor.execute(\"SELECT * FROM tabelLapak\") #sekali lagi kira query tabelLapak untuk melihat perubahan yang terjadi\n",
    "data = kursor.fetchall()\n",
    "print(data)"
   ]
  },
  {
   "cell_type": "markdown",
   "metadata": {},
   "source": [
    "setelah dilakukan delete, dapat kita lihat bakwa database sudah kosong karena satu-satunya record yang ada didalam database tersebut telah di delete."
   ]
  },
  {
   "cell_type": "markdown",
   "metadata": {},
   "source": [
    "### MENUTUP KONEKSI DAN KURSOR\n",
    "Setelah selesai dengan keperluan terhadap database, koneksi maupun kursor perlu ditutup untuk memastikan memory yang terpakai untuk handling koneksi maupun kursor ke database dibebaskan. Caranya sebagai berikut:"
   ]
  },
  {
   "cell_type": "code",
   "execution_count": 15,
   "metadata": {},
   "outputs": [],
   "source": [
    "kursor.close()\n",
    "koneksi.close()"
   ]
  },
  {
   "cell_type": "markdown",
   "metadata": {},
   "source": [
    "Demikian perkenalan untuk penggunaan SQLite"
   ]
  }
 ],
 "metadata": {
  "kernelspec": {
   "display_name": "Python 3",
   "language": "python",
   "name": "python3"
  },
  "language_info": {
   "codemirror_mode": {
    "name": "ipython",
    "version": 3
   },
   "file_extension": ".py",
   "mimetype": "text/x-python",
   "name": "python",
   "nbconvert_exporter": "python",
   "pygments_lexer": "ipython3",
   "version": "3.6.7"
  }
 },
 "nbformat": 4,
 "nbformat_minor": 2
}
